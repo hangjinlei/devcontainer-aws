{
 "cells": [
  {
   "cell_type": "code",
   "execution_count": null,
   "metadata": {},
   "outputs": [],
   "source": [
    "from boto3client import create_dynamodb_client, create_dynamodb_resource"
   ]
  },
  {
   "cell_type": "code",
   "execution_count": null,
   "metadata": {},
   "outputs": [],
   "source": [
    "client = create_dynamodb_client()\n",
    "resource = create_dynamodb_resource()"
   ]
  },
  {
   "cell_type": "code",
   "execution_count": null,
   "metadata": {},
   "outputs": [],
   "source": [
    "def create_table(table_name: str, pk: str):\n",
    "    \"\"\"Create a dynamodb table\n",
    "\n",
    "    Reference:\n",
    "        https://boto3.amazonaws.com/v1/documentation/api/latest/reference/services/dynamodb/client/create_table.html\n",
    "\n",
    "    Table name: sample\n",
    "    Partition key: ID\n",
    "\n",
    "    Required Parameters:\n",
    "        TableName\n",
    "        KeySchema\n",
    "        AttributeDefinitions\n",
    "        BillingMode or ProvisionedThroughput\n",
    "    \"\"\"\n",
    "\n",
    "    response = client.create_table(\n",
    "        AttributeDefinitions=[{\"AttributeName\": pk, \"AttributeType\": \"S\"}],\n",
    "        TableName=table_name,\n",
    "        KeySchema=[{\"AttributeName\": pk, \"KeyType\": \"HASH\"}],\n",
    "        BillingMode=\"PAY_PER_REQUEST\",\n",
    "    )\n",
    "    return response\n",
    "\n",
    "\n",
    "create_table(table_name=\"sample\", pk=\"ID\")"
   ]
  },
  {
   "cell_type": "code",
   "execution_count": null,
   "metadata": {},
   "outputs": [],
   "source": [
    "def put_item(table_name: str, pk: str, pk_value: str, name: str, age: str):\n",
    "    \"\"\"Put some items into the table\n",
    "\n",
    "    https://boto3.amazonaws.com/v1/documentation/api/latest/reference/services/dynamodb/client/put_item.html\n",
    "\n",
    "    Required Parameters:\n",
    "        TableName\n",
    "        Item\n",
    "            Partition key\n",
    "    \"\"\"\n",
    "    response = client.put_item(\n",
    "        TableName=table_name,\n",
    "        Item={pk: {\"S\": pk_value}, \"Name\": {\"S\": name}, \"Age\": {\"S\": age}},\n",
    "    )\n",
    "    return response\n",
    "\n",
    "\n",
    "put_item(table_name=\"sample\", pk=\"ID\", pk_value=\"1\", name=\"John\", age=\"30\")\n",
    "put_item(table_name=\"sample\", pk=\"ID\", pk_value=\"2\", name=\"Jane\", age=\"25\")\n",
    "put_item(table_name=\"sample\", pk=\"ID\", pk_value=\"3\", name=\"Jack\", age=\"20\")\n",
    "put_item(table_name=\"sample\", pk=\"ID\", pk_value=\"4\", name=\"Jill\", age=\"15\")\n",
    "put_item(table_name=\"sample\", pk=\"ID\", pk_value=\"5\", name=\"Joe\", age=\"10\")"
   ]
  },
  {
   "cell_type": "code",
   "execution_count": null,
   "metadata": {},
   "outputs": [],
   "source": [
    "def scan_table(table_name: str):\n",
    "    \"\"\"Scan the table\n",
    "\n",
    "    Reference:\n",
    "        https://boto3.amazonaws.com/v1/documentation/api/latest/reference/services/dynamodb/client/scan.html\n",
    "\n",
    "    Required Parameters:\n",
    "        TableName\n",
    "    \"\"\"\n",
    "\n",
    "    response = client.scan(TableName=table_name)\n",
    "    return response\n",
    "\n",
    "\n",
    "scan_table(table_name=\"sample\")"
   ]
  },
  {
   "cell_type": "code",
   "execution_count": null,
   "metadata": {},
   "outputs": [],
   "source": [
    "def query_table(table_name: str, pk: str, pk_value: str):\n",
    "    \"\"\"Query the table\n",
    "\n",
    "    Reference:\n",
    "        https://boto3.amazonaws.com/v1/documentation/api/latest/reference/services/dynamodb/client/query.html\n",
    "\n",
    "    Required Parameters:\n",
    "        TableName\n",
    "        KeyConditionExpression\n",
    "        ExpressionAttributeValues\n",
    "    \"\"\"\n",
    "\n",
    "    response = client.query(\n",
    "        TableName=table_name,\n",
    "        KeyConditionExpression=f\"{pk} = :pk_value\",\n",
    "        ExpressionAttributeValues={\":pk_value\": {\"S\": pk_value}},\n",
    "    )\n",
    "    return response\n",
    "\n",
    "\n",
    "query_table(table_name=\"sample\", pk=\"ID\", pk_value=\"1\")"
   ]
  },
  {
   "cell_type": "code",
   "execution_count": null,
   "metadata": {},
   "outputs": [],
   "source": [
    "table = resource.Table(\"sample\")\n",
    "response = table.get_item(Key={\"ID\": \"1\"})\n",
    "print(response[\"Item\"])"
   ]
  }
 ],
 "metadata": {
  "kernelspec": {
   "display_name": "Python 3",
   "language": "python",
   "name": "python3"
  },
  "language_info": {
   "codemirror_mode": {
    "name": "ipython",
    "version": 3
   },
   "file_extension": ".py",
   "mimetype": "text/x-python",
   "name": "python",
   "nbconvert_exporter": "python",
   "pygments_lexer": "ipython3",
   "version": "3.11.1"
  },
  "orig_nbformat": 4
 },
 "nbformat": 4,
 "nbformat_minor": 2
}
